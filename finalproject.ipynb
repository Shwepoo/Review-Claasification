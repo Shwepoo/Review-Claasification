{
 "cells": [
  {
   "cell_type": "code",
   "execution_count": 1,
   "metadata": {},
   "outputs": [
    {
     "name": "stderr",
     "output_type": "stream",
     "text": [
      "[nltk_data] Downloading package stopwords to\n",
      "[nltk_data]     C:\\Users\\Shwetha\\AppData\\Roaming\\nltk_data...\n",
      "[nltk_data]   Package stopwords is already up-to-date!\n"
     ]
    }
   ],
   "source": [
    "import numpy as np\n",
    "import matplotlib.pyplot as plt\n",
    "import pandas as pd\n",
    "import re \n",
    "import nltk\n",
    "dataset = pd.read_csv(\"rest2.csv\")\n",
    "#stemmatize\n",
    "#nltk.download('all')m\n",
    "nltk.download('stopwords')\n",
    "from nltk.corpus import stopwords\n",
    "from nltk.stem.porter import PorterStemmer\n",
    "corpus = []\n",
    "n=len(dataset['Review'])\n",
    "for i in range(0,n):\n",
    "    review = re.sub('[^a-zA-Z]', ' ', dataset['Review'][i])\n",
    "    review = review.lower()\n",
    "    review = review.split()\n",
    "    ps = PorterStemmer()\n",
    "    review = [ps.stem(word) for word in review if not word in set(stopwords.words('english'))]\n",
    "    review = ' '.join(review)\n",
    "    corpus.append(review)\n",
    "#vectorize the words into 0's and 1's where 0 implies negative and 1 implies positive and create bag pf words\n",
    "from sklearn.feature_extraction.text import CountVectorizer\n",
    "cv= CountVectorizer()\n",
    "X = cv.fit_transform(corpus).toarray()\n",
    "y = dataset.iloc[:,1].values #counts number of rows\n",
    "#splitting the dataset into the training set and testset\n",
    "from sklearn.model_selection import train_test_split\n",
    "X_train, X_test, y_train, y_test = train_test_split(X , y, test_size = 0.20, random_state = 0)\n",
    "#logistic regression fitting\n",
    "import pandas as pd\n",
    "from sklearn.model_selection import train_test_split\n",
    "from sklearn.linear_model import LogisticRegression\n",
    "from sklearn import metrics\n",
    "import seaborn as sn\n",
    "logistic_regression= LogisticRegression()\n",
    "clf=logistic_regression.fit(X_train,y_train)\n",
    "y_pred=logistic_regression.predict(X_test)"
   ]
  },
  {
   "cell_type": "code",
   "execution_count": 38,
   "metadata": {},
   "outputs": [
    {
     "name": "stdout",
     "output_type": "stream",
     "text": [
      "Accuracy:  0.8155515370705244\n"
     ]
    },
    {
     "data": {
      "image/png": "[encoded data removed]",
      "text/plain": [
       "<Figure size 432x288 with 2 Axes>"
      ]
     },
     "metadata": {
      "needs_background": "light"
     },
     "output_type": "display_data"
    }
   ],
   "source": [
    "#calculate accuracy using confusion matrix\n",
    "confusion_matrix = pd.crosstab(y_test, y_pred, rownames=['Actual'], colnames=['Predicted'])\n",
    "sn.heatmap(confusion_matrix, annot=True)\n",
    "print('Accuracy: ',metrics.accuracy_score(y_test, y_pred))"
   ]
  },
  {
   "cell_type": "code",
   "execution_count": 39,
   "metadata": {},
   "outputs": [
    {
     "data": {
      "text/plain": [
       "{'Waitress was sweet and funny.': 'good',\n",
       " \"I also had to taste my Mom's multi-grain pumpkin pancakes with pecan butter and they were amazing, fluffy, and delicious!\": 'good',\n",
       " \"I'd rather eat airline food, seriously.\": 'bad',\n",
       " 'Cant say enough good things about this place.': 'good',\n",
       " 'The ambiance was incredible.': 'good'}"
      ]
     },
     "execution_count": 39,
     "metadata": {},
     "output_type": "execute_result"
    }
   ],
   "source": [
    "#Example for testing values within dataset\n",
    "com_test=X[500:505]\n",
    "sent=dataset['Review'][500:505]\n",
    "com_pred=logistic_regression.predict(com_test)\n",
    "com_pred\n",
    "com_pred2=[]\n",
    "for i in com_pred:\n",
    "    if i==0:\n",
    "        com_pred2.append('bad');\n",
    "    else :\n",
    "        com_pred2.append('good');\n",
    "res=dict(zip(sent,com_pred2))\n",
    "res"
   ]
  },
  {
   "cell_type": "code",
   "execution_count": 40,
   "metadata": {},
   "outputs": [
    {
     "name": "stdout",
     "output_type": "stream",
     "text": [
      "{'fine': 'good', 'disgusting': 'bad', 'unlucky': 'bad', 'nice': 'good'}\n"
     ]
    }
   ],
   "source": [
    "#module to check if the given comments are good or bad\n",
    "def testcom(comment):\n",
    "    comment_pred=clf.predict(cv.transform(comment).toarray())\n",
    "    comment_pred2=[]\n",
    "    for i in comment_pred:\n",
    "        if i==0:\n",
    "            comment_pred2.append('bad');\n",
    "        else :\n",
    "            comment_pred2.append('good');\n",
    "    res=dict(zip(comment,comment_pred2));\n",
    "    return res;\n",
    "#call the function with list of comments as paramenter\n",
    "print(testcom([\"fine\",\"disgusting\",\"unlucky\",\"nice\"]))"
   ]
  },
  {
   "cell_type": "code",
   "execution_count": null,
   "metadata": {},
   "outputs": [],
   "source": []
  }
 ],
 "metadata": {
  "kernelspec": {
   "display_name": "Python 3",
   "language": "python",
   "name": "python3"
  },
  "language_info": {
   "codemirror_mode": {
    "name": "ipython",
    "version": 3
   },
   "file_extension": ".py",
   "mimetype": "text/x-python",
   "name": "python",
   "nbconvert_exporter": "python",
   "pygments_lexer": "ipython3",
   "version": "3.7.3"
  }
 },
 "nbformat": 4,
 "nbformat_minor": 2
}
